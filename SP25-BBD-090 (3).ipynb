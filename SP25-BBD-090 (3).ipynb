{
 "cells": [
  {
   "cell_type": "markdown",
   "id": "45ae04de-e846-45ae-9caa-7c251009070d",
   "metadata": {},
   "source": [
    "For Loop Lab Assigment no 1:"
   ]
  },
  {
   "cell_type": "markdown",
   "id": "6339367d-bfa4-4016-b588-8ee228f43666",
   "metadata": {},
   "source": [
    "Question No 1:Write a for loop to print all even numbers from 2 to 20."
   ]
  },
  {
   "cell_type": "code",
   "execution_count": 1,
   "id": "aea90337-0d17-45a8-8aa9-7d6547d98b1e",
   "metadata": {},
   "outputs": [
    {
     "name": "stdout",
     "output_type": "stream",
     "text": [
      "2\n",
      "4\n",
      "6\n",
      "8\n",
      "10\n",
      "12\n",
      "14\n",
      "16\n",
      "18\n",
      "20\n"
     ]
    }
   ],
   "source": [
    "for i in  range(2,22,2):\n",
    "    print(i)"
   ]
  },
  {
   "cell_type": "markdown",
   "id": "708f01e7-5247-40f9-b29e-4444f981e112",
   "metadata": {},
   "source": [
    "Question no 2:Create a list of names and use a for loop to print each name in uppercase."
   ]
  },
  {
   "cell_type": "code",
   "execution_count": 10,
   "id": "7259dc14-d84b-4aef-ae48-96b528b95a90",
   "metadata": {},
   "outputs": [
    {
     "name": "stdout",
     "output_type": "stream",
     "text": [
      "IQRA\n",
      "MALAIKA\n",
      "LAIBA\n"
     ]
    }
   ],
   "source": [
    "names=[\"iqra\",\"malaika\",\"laiba\"] \n",
    "for names in names:\n",
    "    print(names.upper())"
   ]
  },
  {
   "cell_type": "markdown",
   "id": "d2716b09-5429-4ce6-87c6-29059265acd2",
   "metadata": {},
   "source": [
    "Questino no 3:Use a for loop with range() to print numbers from 10 to 1 in reverse order."
   ]
  },
  {
   "cell_type": "code",
   "execution_count": 14,
   "id": "d9b79c64-f8ef-43c4-a202-f5bcdcc7ef5a",
   "metadata": {},
   "outputs": [
    {
     "name": "stdout",
     "output_type": "stream",
     "text": [
      "10\n",
      "9\n",
      "8\n",
      "7\n",
      "6\n",
      "5\n",
      "4\n",
      "3\n",
      "2\n",
      "1\n"
     ]
    }
   ],
   "source": [
    "for i in range(10,0,-1):\n",
    "    print(i)"
   ]
  },
  {
   "cell_type": "markdown",
   "id": "07f6f7f1-f06d-43c3-af46-db5af53623b0",
   "metadata": {},
   "source": [
    "Question no 4:Iterate through a list of integers and print only the numbers that are divisible by 3."
   ]
  },
  {
   "cell_type": "code",
   "execution_count": 2,
   "id": "33e8b47a-248a-46ad-9ccd-e87856c6be20",
   "metadata": {},
   "outputs": [
    {
     "name": "stdout",
     "output_type": "stream",
     "text": [
      "3\n",
      "6\n",
      "9\n",
      "12\n",
      "15\n",
      "18\n"
     ]
    }
   ],
   "source": [
    "integers=[1,2,3,4,5,6,7,8,9,10,11,12,13,14,15,16,17,18,19,20]\n",
    "for integers in integers:\n",
    "    if integers %3==0:\n",
    "        print(integers)"
   ]
  },
  {
   "cell_type": "markdown",
   "id": "53e9c4f0-fbc3-499a-947a-fa29c346f9b4",
   "metadata": {},
   "source": [
    "Question no 5:Write a loop that prints the squares of numbers from 1 to 10."
   ]
  },
  {
   "cell_type": "code",
   "execution_count": 3,
   "id": "1f595f38-ac36-4227-91bd-57d54f747a5f",
   "metadata": {},
   "outputs": [
    {
     "name": "stdout",
     "output_type": "stream",
     "text": [
      "1 squared is 1\n",
      "2 squared is 4\n",
      "3 squared is 9\n",
      "4 squared is 16\n",
      "5 squared is 25\n",
      "6 squared is 36\n",
      "7 squared is 49\n",
      "8 squared is 64\n",
      "9 squared is 81\n",
      "10 squared is 100\n"
     ]
    }
   ],
   "source": [
    "numbers = [1, 2, 3, 4, 5,6,7,8,9,10]\n",
    "for num in numbers:\n",
    "    squared = num ** 2\n",
    "    print(f\"{num} squared is {squared}\")"
   ]
  },
  {
   "cell_type": "markdown",
   "id": "5b57905e-e289-4875-bffd-facb20b320fe",
   "metadata": {},
   "source": [
    "Question no 6:Given a list of temperatures in Celsius, use a for loop to convert each to Fahrenheit."
   ]
  },
  {
   "cell_type": "code",
   "execution_count": null,
   "id": "8ca93205-cdc0-453c-95e0-9ce73d86bd45",
   "metadata": {},
   "outputs": [],
   "source": []
  },
  {
   "cell_type": "code",
   "execution_count": 17,
   "id": "983df734-5890-4cc8-b97c-6483a94a70ba",
   "metadata": {},
   "outputs": [
    {
     "name": "stdout",
     "output_type": "stream",
     "text": [
      "50.0\n",
      "86.0\n",
      "104.0\n",
      "122.0\n",
      "212.0\n"
     ]
    }
   ],
   "source": [
    "celsius_temperature=[10,30,40,50,100]\n",
    "fahrenheit_temperature=[]\n",
    "for celsius in celsius_temperature:\n",
    "    fahrenheit_temperature=(celsius*9/5)+32\n",
    "    print(fahrenheit_temperature)"
   ]
  },
  {
   "cell_type": "markdown",
   "id": "8bb85e49-14aa-4c11-861e-7debc68644b5",
   "metadata": {},
   "source": [
    "Qustion no 7:Create a for loop that prints the multiplication table of 5."
   ]
  },
  {
   "cell_type": "code",
   "execution_count": 22,
   "id": "0d287d4e-10ad-4de4-a1bc-42c5546631bd",
   "metadata": {},
   "outputs": [
    {
     "name": "stdout",
     "output_type": "stream",
     "text": [
      "5*1=5\n",
      "5*2=10\n",
      "5*3=15\n",
      "5*4=20\n",
      "5*5=25\n",
      "5*6=30\n",
      "5*7=35\n",
      "5*8=40\n",
      "5*9=45\n",
      "5*10=50\n"
     ]
    }
   ],
   "source": [
    "numbers=5\n",
    "for i in range(1,11):\n",
    "    print(f\"{numbers}*{i}={numbers*i}\")"
   ]
  },
  {
   "cell_type": "markdown",
   "id": "e0147255-8c25-4378-a8df-aea3ee1dce9c",
   "metadata": {},
   "source": [
    "Question no 8:Write a program to find the sum of all numbers in a list using a for loop."
   ]
  },
  {
   "cell_type": "code",
   "execution_count": 31,
   "id": "80bc0d1d-5c9b-467d-826d-7ff46cff4219",
   "metadata": {},
   "outputs": [
    {
     "name": "stdout",
     "output_type": "stream",
     "text": [
      "The sum of the numbers is: 1\n",
      "The sum of the numbers is: 3\n",
      "The sum of the numbers is: 6\n",
      "The sum of the numbers is: 10\n",
      "The sum of the numbers is: 15\n",
      "The sum of the numbers is: 21\n",
      "The sum of the numbers is: 28\n"
     ]
    }
   ],
   "source": [
    "numbers=[1,2,3,4,5,6,7]\n",
    "total_sum=0\n",
    "for numbers in numbers:\n",
    "    total_sum+=numbers\n",
    "    print(\"The sum of the numbers is:\",total_sum)"
   ]
  },
  {
   "cell_type": "markdown",
   "id": "29c9ffab-fd26-44ab-ba31-912c6f60654d",
   "metadata": {},
   "source": [
    "Question no 9:Use a for loop to iterate through a string and print each character separately."
   ]
  },
  {
   "cell_type": "code",
   "execution_count": 32,
   "id": "7f171895-1502-4bd0-b9a1-8e619797e348",
   "metadata": {},
   "outputs": [
    {
     "name": "stdout",
     "output_type": "stream",
     "text": [
      "H\n",
      "e\n",
      "l\n",
      "l\n",
      "o\n",
      ",\n",
      "w\n",
      "o\n",
      "r\n",
      "l\n",
      "d\n",
      "!\n"
     ]
    }
   ],
   "source": [
    "string=\"Hello,world!\"\n",
    "for char in string:\n",
    "    print(char)"
   ]
  },
  {
   "cell_type": "markdown",
   "id": "08bdf911-2362-47a1-a4f3-c049dd05ac0f",
   "metadata": {},
   "source": [
    "Question no 10:Create a list of words and use a for loop to print only the words with more than 5 letters."
   ]
  },
  {
   "cell_type": "code",
   "execution_count": null,
   "id": "3289fd83-3146-4d8b-bde5-26d2c7415f15",
   "metadata": {},
   "outputs": [],
   "source": [
    "words=[\"apple\",\"banana\",\"kiwi\",\"orange\"]\n",
    "for words in words:\n",
    "    if len(word"
   ]
  }
 ],
 "metadata": {
  "kernelspec": {
   "display_name": "Python 3 (ipykernel)",
   "language": "python",
   "name": "python3"
  },
  "language_info": {
   "codemirror_mode": {
    "name": "ipython",
    "version": 3
   },
   "file_extension": ".py",
   "mimetype": "text/x-python",
   "name": "python",
   "nbconvert_exporter": "python",
   "pygments_lexer": "ipython3",
   "version": "3.12.7"
  }
 },
 "nbformat": 4,
 "nbformat_minor": 5
}
